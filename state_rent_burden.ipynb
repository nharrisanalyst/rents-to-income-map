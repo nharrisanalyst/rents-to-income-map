{
 "cells": [
  {
   "cell_type": "code",
   "execution_count": 1,
   "id": "3c72f9ac-2516-4b6a-8bac-d1765ca013a5",
   "metadata": {},
   "outputs": [
    {
     "data": {
      "text/plain": [
       "'/Users/natharri/Documents/jupyter/project_state_rent_burden'"
      ]
     },
     "execution_count": 1,
     "metadata": {},
     "output_type": "execute_result"
    }
   ],
   "source": [
    "pwd()"
   ]
  },
  {
   "cell_type": "code",
   "execution_count": 2,
   "id": "e8241a04-ac41-4324-9b81-276800327e7b",
   "metadata": {},
   "outputs": [],
   "source": [
    "import pandas as pd"
   ]
  },
  {
   "cell_type": "code",
   "execution_count": 4,
   "id": "4939b39a-d57e-4a43-87b3-488b4035603c",
   "metadata": {},
   "outputs": [],
   "source": [
    "income = pd.read_csv('data/ACS5Y2020/ACSST5Y2020.S1903-Data.csv')"
   ]
  },
  {
   "cell_type": "code",
   "execution_count": 5,
   "id": "91f2fd92-822e-4776-807f-7df979d2f3ef",
   "metadata": {},
   "outputs": [
    {
     "data": {
      "text/html": [
       "<div>\n",
       "<style scoped>\n",
       "    .dataframe tbody tr th:only-of-type {\n",
       "        vertical-align: middle;\n",
       "    }\n",
       "\n",
       "    .dataframe tbody tr th {\n",
       "        vertical-align: top;\n",
       "    }\n",
       "\n",
       "    .dataframe thead th {\n",
       "        text-align: right;\n",
       "    }\n",
       "</style>\n",
       "<table border=\"1\" class=\"dataframe\">\n",
       "  <thead>\n",
       "    <tr style=\"text-align: right;\">\n",
       "      <th></th>\n",
       "      <th>GEO_ID</th>\n",
       "      <th>NAME</th>\n",
       "      <th>S1903_C01_001E</th>\n",
       "      <th>S1903_C01_001EA</th>\n",
       "      <th>S1903_C01_001M</th>\n",
       "      <th>S1903_C01_001MA</th>\n",
       "      <th>S1903_C01_002E</th>\n",
       "      <th>S1903_C01_002EA</th>\n",
       "      <th>S1903_C01_002M</th>\n",
       "      <th>S1903_C01_002MA</th>\n",
       "      <th>...</th>\n",
       "      <th>S1903_C03_038EA</th>\n",
       "      <th>S1903_C03_039E</th>\n",
       "      <th>S1903_C03_039EA</th>\n",
       "      <th>S1903_C03_039M</th>\n",
       "      <th>S1903_C03_039MA</th>\n",
       "      <th>S1903_C03_040E</th>\n",
       "      <th>S1903_C03_040M</th>\n",
       "      <th>S1903_C03_040MA</th>\n",
       "      <th>S1903_C03_040EA</th>\n",
       "      <th>Unnamed: 482</th>\n",
       "    </tr>\n",
       "  </thead>\n",
       "  <tbody>\n",
       "    <tr>\n",
       "      <th>0</th>\n",
       "      <td>Geography</td>\n",
       "      <td>Geographic Area Name</td>\n",
       "      <td>Estimate!!Number!!HOUSEHOLD INCOME BY RACE AND...</td>\n",
       "      <td>Annotation of Estimate!!Number!!HOUSEHOLD INCO...</td>\n",
       "      <td>Margin of Error!!Number!!HOUSEHOLD INCOME BY R...</td>\n",
       "      <td>Annotation of Margin of Error!!Number!!HOUSEHO...</td>\n",
       "      <td>Estimate!!Number!!HOUSEHOLD INCOME BY RACE AND...</td>\n",
       "      <td>Annotation of Estimate!!Number!!HOUSEHOLD INCO...</td>\n",
       "      <td>Margin of Error!!Number!!HOUSEHOLD INCOME BY R...</td>\n",
       "      <td>Annotation of Margin of Error!!Number!!HOUSEHO...</td>\n",
       "      <td>...</td>\n",
       "      <td>Annotation of Estimate!!Median income (dollars...</td>\n",
       "      <td>Estimate!!Median income (dollars)!!NONFAMILY H...</td>\n",
       "      <td>Annotation of Estimate!!Median income (dollars...</td>\n",
       "      <td>Margin of Error!!Median income (dollars)!!NONF...</td>\n",
       "      <td>Annotation of Margin of Error!!Median income (...</td>\n",
       "      <td>Estimate!!Median income (dollars)!!NONFAMILY H...</td>\n",
       "      <td>Margin of Error!!Median income (dollars)!!NONF...</td>\n",
       "      <td>Annotation of Margin of Error!!Median income (...</td>\n",
       "      <td>Annotation of Estimate!!Median income (dollars...</td>\n",
       "      <td>NaN</td>\n",
       "    </tr>\n",
       "    <tr>\n",
       "      <th>1</th>\n",
       "      <td>310M600US43760</td>\n",
       "      <td>Sonora, CA Micro Area</td>\n",
       "      <td>22937</td>\n",
       "      <td>NaN</td>\n",
       "      <td>637</td>\n",
       "      <td>NaN</td>\n",
       "      <td>20975</td>\n",
       "      <td>NaN</td>\n",
       "      <td>588</td>\n",
       "      <td>NaN</td>\n",
       "      <td>...</td>\n",
       "      <td>NaN</td>\n",
       "      <td>32724</td>\n",
       "      <td>NaN</td>\n",
       "      <td>11262</td>\n",
       "      <td>NaN</td>\n",
       "      <td>65023</td>\n",
       "      <td>8695</td>\n",
       "      <td>NaN</td>\n",
       "      <td>NaN</td>\n",
       "      <td>NaN</td>\n",
       "    </tr>\n",
       "  </tbody>\n",
       "</table>\n",
       "<p>2 rows × 483 columns</p>\n",
       "</div>"
      ],
      "text/plain": [
       "           GEO_ID                   NAME  \\\n",
       "0       Geography   Geographic Area Name   \n",
       "1  310M600US43760  Sonora, CA Micro Area   \n",
       "\n",
       "                                      S1903_C01_001E  \\\n",
       "0  Estimate!!Number!!HOUSEHOLD INCOME BY RACE AND...   \n",
       "1                                              22937   \n",
       "\n",
       "                                     S1903_C01_001EA  \\\n",
       "0  Annotation of Estimate!!Number!!HOUSEHOLD INCO...   \n",
       "1                                                NaN   \n",
       "\n",
       "                                      S1903_C01_001M  \\\n",
       "0  Margin of Error!!Number!!HOUSEHOLD INCOME BY R...   \n",
       "1                                                637   \n",
       "\n",
       "                                     S1903_C01_001MA  \\\n",
       "0  Annotation of Margin of Error!!Number!!HOUSEHO...   \n",
       "1                                                NaN   \n",
       "\n",
       "                                      S1903_C01_002E  \\\n",
       "0  Estimate!!Number!!HOUSEHOLD INCOME BY RACE AND...   \n",
       "1                                              20975   \n",
       "\n",
       "                                     S1903_C01_002EA  \\\n",
       "0  Annotation of Estimate!!Number!!HOUSEHOLD INCO...   \n",
       "1                                                NaN   \n",
       "\n",
       "                                      S1903_C01_002M  \\\n",
       "0  Margin of Error!!Number!!HOUSEHOLD INCOME BY R...   \n",
       "1                                                588   \n",
       "\n",
       "                                     S1903_C01_002MA  ...  \\\n",
       "0  Annotation of Margin of Error!!Number!!HOUSEHO...  ...   \n",
       "1                                                NaN  ...   \n",
       "\n",
       "                                     S1903_C03_038EA  \\\n",
       "0  Annotation of Estimate!!Median income (dollars...   \n",
       "1                                                NaN   \n",
       "\n",
       "                                      S1903_C03_039E  \\\n",
       "0  Estimate!!Median income (dollars)!!NONFAMILY H...   \n",
       "1                                              32724   \n",
       "\n",
       "                                     S1903_C03_039EA  \\\n",
       "0  Annotation of Estimate!!Median income (dollars...   \n",
       "1                                                NaN   \n",
       "\n",
       "                                      S1903_C03_039M  \\\n",
       "0  Margin of Error!!Median income (dollars)!!NONF...   \n",
       "1                                              11262   \n",
       "\n",
       "                                     S1903_C03_039MA  \\\n",
       "0  Annotation of Margin of Error!!Median income (...   \n",
       "1                                                NaN   \n",
       "\n",
       "                                      S1903_C03_040E  \\\n",
       "0  Estimate!!Median income (dollars)!!NONFAMILY H...   \n",
       "1                                              65023   \n",
       "\n",
       "                                      S1903_C03_040M  \\\n",
       "0  Margin of Error!!Median income (dollars)!!NONF...   \n",
       "1                                               8695   \n",
       "\n",
       "                                     S1903_C03_040MA  \\\n",
       "0  Annotation of Margin of Error!!Median income (...   \n",
       "1                                                NaN   \n",
       "\n",
       "                                     S1903_C03_040EA Unnamed: 482  \n",
       "0  Annotation of Estimate!!Median income (dollars...          NaN  \n",
       "1                                                NaN          NaN  \n",
       "\n",
       "[2 rows x 483 columns]"
      ]
     },
     "execution_count": 5,
     "metadata": {},
     "output_type": "execute_result"
    }
   ],
   "source": [
    "income.head()"
   ]
  },
  {
   "cell_type": "code",
   "execution_count": 6,
   "id": "5f5ffe2c-ad87-4859-bf85-fefdba1c1893",
   "metadata": {},
   "outputs": [
    {
     "name": "stdout",
     "output_type": "stream",
     "text": [
      "<class 'pandas.core.frame.DataFrame'>\n",
      "RangeIndex: 2 entries, 0 to 1\n",
      "Columns: 483 entries, GEO_ID to Unnamed: 482\n",
      "dtypes: float64(1), object(482)\n",
      "memory usage: 7.7+ KB\n"
     ]
    }
   ],
   "source": [
    "income.info()"
   ]
  },
  {
   "cell_type": "code",
   "execution_count": null,
   "id": "db774f71-d0e0-4232-b0c4-5bd8ad3500d3",
   "metadata": {},
   "outputs": [],
   "source": []
  }
 ],
 "metadata": {
  "kernelspec": {
   "display_name": "Python 3 (ipykernel)",
   "language": "python",
   "name": "python3"
  },
  "language_info": {
   "codemirror_mode": {
    "name": "ipython",
    "version": 3
   },
   "file_extension": ".py",
   "mimetype": "text/x-python",
   "name": "python",
   "nbconvert_exporter": "python",
   "pygments_lexer": "ipython3",
   "version": "3.8.15"
  }
 },
 "nbformat": 4,
 "nbformat_minor": 5
}
